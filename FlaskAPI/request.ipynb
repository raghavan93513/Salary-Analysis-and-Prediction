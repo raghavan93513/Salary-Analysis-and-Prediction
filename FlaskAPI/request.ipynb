{
 "cells": [
  {
   "cell_type": "code",
   "execution_count": 3,
   "metadata": {},
   "outputs": [],
   "source": [
    "import requests\n",
    "from data_input import data_in\n",
    "\n",
    "URL = 'http://127.0.0.1:5000/predict'\n",
    "headers = {\"Content-Type\" : \"application/json\"}\n",
    "data = {\"input\":data_in}\n",
    "\n",
    "req = requests.get(URL,headers=headers,json=data)"
   ]
  },
  {
   "cell_type": "code",
   "execution_count": 4,
   "metadata": {},
   "outputs": [
    {
     "data": {
      "text/plain": [
       "{'response': 138.55374809052876}"
      ]
     },
     "execution_count": 4,
     "metadata": {},
     "output_type": "execute_result"
    }
   ],
   "source": [
    "req.json()"
   ]
  }
 ],
 "metadata": {
  "kernelspec": {
   "display_name": "Python 3",
   "language": "python",
   "name": "python3"
  },
  "language_info": {
   "codemirror_mode": {
    "name": "ipython",
    "version": 3
   },
   "file_extension": ".py",
   "mimetype": "text/x-python",
   "name": "python",
   "nbconvert_exporter": "python",
   "pygments_lexer": "ipython3",
   "version": "3.11.1 (tags/v3.11.1:a7a450f, Dec  6 2022, 19:58:39) [MSC v.1934 64 bit (AMD64)]"
  },
  "orig_nbformat": 4,
  "vscode": {
   "interpreter": {
    "hash": "df241f1ee7ee349db465efd388f47a0faae308371454bf1a2e69b62c65f0e245"
   }
  }
 },
 "nbformat": 4,
 "nbformat_minor": 2
}
